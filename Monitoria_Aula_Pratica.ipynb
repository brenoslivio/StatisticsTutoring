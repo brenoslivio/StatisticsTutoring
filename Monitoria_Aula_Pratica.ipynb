{
 "cells": [
  {
   "cell_type": "markdown",
   "source": [
    "# SME0320 - Estatística I\n",
    "\n",
    "Monitoria - Aula Prática de Análise de Dados\n",
    "\n",
    "\n",
    "---"
   ],
   "metadata": {}
  },
  {
   "cell_type": "markdown",
   "source": [
    "## Apresentação ao ambiente Jupyter"
   ],
   "metadata": {}
  },
  {
   "cell_type": "markdown",
   "source": [
    "### Células de texto e de código"
   ],
   "metadata": {}
  },
  {
   "cell_type": "markdown",
   "source": [
    "O ambiente de trabalho do Jupyter é composto por células de texto e de código. O ambiente funciona de forma interativa, permitindo que o usuário interaja com o código ao executá-lo. Exemplo de célula de código:"
   ],
   "metadata": {}
  },
  {
   "cell_type": "code",
   "execution_count": 1,
   "source": [
    "a = 25\n",
    "b = 35\n",
    "\n",
    "a"
   ],
   "outputs": [
    {
     "output_type": "execute_result",
     "data": {
      "text/plain": [
       "25"
      ]
     },
     "metadata": {},
     "execution_count": 1
    }
   ],
   "metadata": {}
  },
  {
   "cell_type": "markdown",
   "source": [
    "Após indicados valores para as variáveis, a célula de código devolveu o valor da variável 'a' por ter sido a última linha do código. Exemplo se quiséssemos a soma das variáveis:"
   ],
   "metadata": {}
  },
  {
   "cell_type": "code",
   "execution_count": 2,
   "source": [
    "a + b"
   ],
   "outputs": [
    {
     "output_type": "execute_result",
     "data": {
      "text/plain": [
       "60"
      ]
     },
     "metadata": {},
     "execution_count": 2
    }
   ],
   "metadata": {}
  },
  {
   "cell_type": "markdown",
   "source": [
    "Se colocamos um novo valor para 'a' perceba que o resultado da célula de cima será alterado. Isso ocorre pois na execução do Notebook Jupyter, existe uma espécie de memória alocada para as variáveis."
   ],
   "metadata": {}
  },
  {
   "cell_type": "code",
   "execution_count": 3,
   "source": [
    "a = 37"
   ],
   "outputs": [],
   "metadata": {}
  },
  {
   "cell_type": "markdown",
   "source": [
    "### Bibliotecas"
   ],
   "metadata": {}
  },
  {
   "cell_type": "markdown",
   "source": [
    "#### ![Pandas](https://pandas.pydata.org/static/img/pandas_white.svg)"
   ],
   "metadata": {}
  },
  {
   "cell_type": "markdown",
   "source": [
    "Pandas é uma biblioteca de Python que permite trabalhar com conjuntos de dados ao possibilitar diversas funções de análise apropriadas para análise.\n",
    "\n",
    "Mais exemplos de funções do Pandas: [Pandas User Guide](https://pandas.pydata.org/docs/user_guide/index.html).\n",
    "\n",
    "Vamos carregar um conjunto de dados de tartarugas:"
   ],
   "metadata": {}
  },
  {
   "cell_type": "code",
   "execution_count": 1,
   "source": [
    "import pandas as pd\n",
    "\n",
    "# Lê o arquivo csv\n",
    "dadosTartaruga = pd.read_csv(\"turtles.csv\")\n",
    "\n",
    "# Mostra 10 primeiras observações do csv\n",
    "dadosTartaruga.head(10)"
   ],
   "outputs": [
    {
     "output_type": "execute_result",
     "data": {
      "text/html": [
       "<div>\n",
       "<style scoped>\n",
       "    .dataframe tbody tr th:only-of-type {\n",
       "        vertical-align: middle;\n",
       "    }\n",
       "\n",
       "    .dataframe tbody tr th {\n",
       "        vertical-align: top;\n",
       "    }\n",
       "\n",
       "    .dataframe thead th {\n",
       "        text-align: right;\n",
       "    }\n",
       "</style>\n",
       "<table border=\"1\" class=\"dataframe\">\n",
       "  <thead>\n",
       "    <tr style=\"text-align: right;\">\n",
       "      <th></th>\n",
       "      <th>INDEX</th>\n",
       "      <th>COLLECTION</th>\n",
       "      <th>SEX</th>\n",
       "      <th>LENGTH</th>\n",
       "      <th>WIDTH</th>\n",
       "      <th>HEIGHT</th>\n",
       "    </tr>\n",
       "  </thead>\n",
       "  <tbody>\n",
       "    <tr>\n",
       "      <th>0</th>\n",
       "      <td>1</td>\n",
       "      <td>\"CMNH\"</td>\n",
       "      <td>\"F\"</td>\n",
       "      <td>202</td>\n",
       "      <td>156</td>\n",
       "      <td>89</td>\n",
       "    </tr>\n",
       "    <tr>\n",
       "      <th>1</th>\n",
       "      <td>2</td>\n",
       "      <td>\"CMNH\"</td>\n",
       "      <td>\"F\"</td>\n",
       "      <td>198</td>\n",
       "      <td>153</td>\n",
       "      <td>91</td>\n",
       "    </tr>\n",
       "    <tr>\n",
       "      <th>2</th>\n",
       "      <td>3</td>\n",
       "      <td>\"CMNH\"</td>\n",
       "      <td>\"F\"</td>\n",
       "      <td>198</td>\n",
       "      <td>153</td>\n",
       "      <td>89</td>\n",
       "    </tr>\n",
       "    <tr>\n",
       "      <th>3</th>\n",
       "      <td>4</td>\n",
       "      <td>\"CMNH\"</td>\n",
       "      <td>\"F\"</td>\n",
       "      <td>213</td>\n",
       "      <td>164</td>\n",
       "      <td>90</td>\n",
       "    </tr>\n",
       "    <tr>\n",
       "      <th>4</th>\n",
       "      <td>5</td>\n",
       "      <td>\"CMNH\"</td>\n",
       "      <td>\"F\"</td>\n",
       "      <td>214</td>\n",
       "      <td>165</td>\n",
       "      <td>88</td>\n",
       "    </tr>\n",
       "    <tr>\n",
       "      <th>5</th>\n",
       "      <td>6</td>\n",
       "      <td>\"CMNH\"</td>\n",
       "      <td>\"F\"</td>\n",
       "      <td>162</td>\n",
       "      <td>132</td>\n",
       "      <td>67</td>\n",
       "    </tr>\n",
       "    <tr>\n",
       "      <th>6</th>\n",
       "      <td>7</td>\n",
       "      <td>\"CMNH\"</td>\n",
       "      <td>\"F\"</td>\n",
       "      <td>203</td>\n",
       "      <td>157</td>\n",
       "      <td>84</td>\n",
       "    </tr>\n",
       "    <tr>\n",
       "      <th>7</th>\n",
       "      <td>8</td>\n",
       "      <td>\"CMNH\"</td>\n",
       "      <td>\"F\"</td>\n",
       "      <td>186</td>\n",
       "      <td>150</td>\n",
       "      <td>80</td>\n",
       "    </tr>\n",
       "    <tr>\n",
       "      <th>8</th>\n",
       "      <td>9</td>\n",
       "      <td>\"SREL\"</td>\n",
       "      <td>\"F\"</td>\n",
       "      <td>196</td>\n",
       "      <td>163</td>\n",
       "      <td>85</td>\n",
       "    </tr>\n",
       "    <tr>\n",
       "      <th>9</th>\n",
       "      <td>10</td>\n",
       "      <td>\"SREL\"</td>\n",
       "      <td>\"F\"</td>\n",
       "      <td>225</td>\n",
       "      <td>183</td>\n",
       "      <td>100</td>\n",
       "    </tr>\n",
       "  </tbody>\n",
       "</table>\n",
       "</div>"
      ],
      "text/plain": [
       "   INDEX COLLECTION         SEX  LENGTH  WIDTH  HEIGHT\n",
       "0      1     \"CMNH\"         \"F\"     202    156      89\n",
       "1      2     \"CMNH\"         \"F\"     198    153      91\n",
       "2      3     \"CMNH\"         \"F\"     198    153      89\n",
       "3      4     \"CMNH\"         \"F\"     213    164      90\n",
       "4      5     \"CMNH\"         \"F\"     214    165      88\n",
       "5      6     \"CMNH\"         \"F\"     162    132      67\n",
       "6      7     \"CMNH\"         \"F\"     203    157      84\n",
       "7      8     \"CMNH\"         \"F\"     186    150      80\n",
       "8      9     \"SREL\"         \"F\"     196    163      85\n",
       "9     10     \"SREL\"         \"F\"     225    183     100"
      ]
     },
     "metadata": {},
     "execution_count": 1
    }
   ],
   "metadata": {}
  },
  {
   "cell_type": "markdown",
   "source": [
    "#### ![Matplotlib](https://matplotlib.org/_static/images/logo2.svg)"
   ],
   "metadata": {}
  },
  {
   "cell_type": "markdown",
   "source": [
    "Temos também bibliotecas para visualização de gráficos, sendo uma das mais conhecidas a Matplotlib. \n",
    "\n",
    "Para mais exemplos de funções acesse: [matplotlib.org](https://matplotlib.org/).\n",
    "\n",
    "Temos, por exemplo, o seguinte gráfico em barras para quantidade de tartarugas machos e fêmeas:"
   ],
   "metadata": {}
  },
  {
   "cell_type": "code",
   "execution_count": 30,
   "source": [
    "import matplotlib.pyplot as plt\n",
    "\n",
    "# Frequência para cada tipo único da variável SEX\n",
    "sex = dadosTartaruga['SEX'].value_counts().to_frame().reset_index()\n",
    "\n",
    "# Nome para as colunas\n",
    "sex.columns = ['Sexo', 'Quantidade']\n",
    "\n",
    "# Gráfico em barras\n",
    "sex.plot.bar(x = 'Sexo', y = 'Quantidade', rot = 0, title = \"Número de tartarugas machos e fêmeas\");\n",
    "\n",
    "# Configurações da parte gráfica\n",
    "fig = plt.gcf()\n",
    "fig.set_size_inches(8, 8) # Tamanho da imagem\n",
    "\n",
    "plt.show();"
   ],
   "outputs": [
    {
     "output_type": "display_data",
     "data": {
      "image/png": "[encoded data removed]",
      "text/plain": [
       "<Figure size 576x576 with 1 Axes>"
      ]
     },
     "metadata": {
      "needs_background": "light"
     }
    }
   ],
   "metadata": {}
  },
  {
   "cell_type": "markdown",
   "source": [
    "#### ![SciPy](https://www.firelinescience.com/wp-content/uploads/2019/09/SciPy-Logo.png)"
   ],
   "metadata": {}
  },
  {
   "cell_type": "markdown",
   "source": [
    "SciPy é uma biblioteca de computação científica para Python. Ela contém diversas funções estatísticas que podem ser úteis para análise de dados.\n",
    "\n",
    "Para mais informações das funções acesse: [Statistical functions](https://docs.scipy.org/doc/scipy/reference/stats.html).\n",
    "\n",
    "Encontrando o valor Z dado o percentil 0.975 na distribuição normal:"
   ],
   "metadata": {}
  },
  {
   "cell_type": "code",
   "execution_count": 35,
   "source": [
    "from scipy import stats\n",
    "\n",
    "stats.norm.ppf(0.975)"
   ],
   "outputs": [
    {
     "output_type": "execute_result",
     "data": {
      "text/plain": [
       "1.959963984540054"
      ]
     },
     "metadata": {},
     "execution_count": 35
    }
   ],
   "metadata": {}
  },
  {
   "cell_type": "markdown",
   "source": [
    "Encontrando o percentil dado o valor Z:"
   ],
   "metadata": {}
  },
  {
   "cell_type": "code",
   "execution_count": 38,
   "source": [
    "stats.norm.cdf(1.96)"
   ],
   "outputs": [
    {
     "output_type": "execute_result",
     "data": {
      "text/plain": [
       "0.9750021048517795"
      ]
     },
     "metadata": {},
     "execution_count": 38
    }
   ],
   "metadata": {}
  },
  {
   "cell_type": "markdown",
   "source": [
    "## Análise Descritiva"
   ],
   "metadata": {}
  },
  {
   "cell_type": "markdown",
   "source": [
    "Sobretudo, para uma Análise Descritiva dos dados, é importante nos relembrarmos das características que as variáveis podem assumir:\n",
    "\n",
    "![img1](imgs/img1.png)\n",
    "\n",
    "Ao classificar propriamente as variáveis conseguimos adquirir noções de, por exemplo, quais gráficos fazem sentido para a visualização dos dados."
   ],
   "metadata": {}
  },
  {
   "cell_type": "markdown",
   "source": [
    "Ainda com os dados das tartarugas, vemos variáveis como COLLECTION, que é uma variável qualitativa. Considerando isso, uma medida interessante de se analisar é a moda:"
   ],
   "metadata": {}
  },
  {
   "cell_type": "code",
   "execution_count": 60,
   "source": [
    "dadosTartaruga[\"COLLECTION\"].mode()"
   ],
   "outputs": [
    {
     "output_type": "execute_result",
     "data": {
      "text/plain": [
       "0      \"SREL\"\n",
       "dtype: object"
      ]
     },
     "metadata": {},
     "execution_count": 60
    }
   ],
   "metadata": {}
  },
  {
   "cell_type": "markdown",
   "source": [
    "Agora trabalhando com dados de árvores que possui apenas variáveis contínuas para análise:"
   ],
   "metadata": {}
  },
  {
   "cell_type": "code",
   "execution_count": 61,
   "source": [
    "dadosTree = pd.read_csv(\"trees.csv\")\n",
    "\n",
    "\n",
    "dadosTree.sample(10)"
   ],
   "outputs": [
    {
     "output_type": "execute_result",
     "data": {
      "text/html": [
       "<div>\n",
       "<style scoped>\n",
       "    .dataframe tbody tr th:only-of-type {\n",
       "        vertical-align: middle;\n",
       "    }\n",
       "\n",
       "    .dataframe tbody tr th {\n",
       "        vertical-align: top;\n",
       "    }\n",
       "\n",
       "    .dataframe thead th {\n",
       "        text-align: right;\n",
       "    }\n",
       "</style>\n",
       "<table border=\"1\" class=\"dataframe\">\n",
       "  <thead>\n",
       "    <tr style=\"text-align: right;\">\n",
       "      <th></th>\n",
       "      <th>Index</th>\n",
       "      <th>\"Girth (in)\"</th>\n",
       "      <th>\"Height (ft)\"</th>\n",
       "      <th>\"Volume(ft^3)\"</th>\n",
       "    </tr>\n",
       "  </thead>\n",
       "  <tbody>\n",
       "    <tr>\n",
       "      <th>25</th>\n",
       "      <td>26</td>\n",
       "      <td>17.3</td>\n",
       "      <td>81</td>\n",
       "      <td>55.4</td>\n",
       "    </tr>\n",
       "    <tr>\n",
       "      <th>0</th>\n",
       "      <td>1</td>\n",
       "      <td>8.3</td>\n",
       "      <td>70</td>\n",
       "      <td>10.3</td>\n",
       "    </tr>\n",
       "    <tr>\n",
       "      <th>13</th>\n",
       "      <td>14</td>\n",
       "      <td>11.7</td>\n",
       "      <td>69</td>\n",
       "      <td>21.3</td>\n",
       "    </tr>\n",
       "    <tr>\n",
       "      <th>3</th>\n",
       "      <td>4</td>\n",
       "      <td>10.5</td>\n",
       "      <td>72</td>\n",
       "      <td>16.4</td>\n",
       "    </tr>\n",
       "    <tr>\n",
       "      <th>19</th>\n",
       "      <td>20</td>\n",
       "      <td>13.8</td>\n",
       "      <td>64</td>\n",
       "      <td>24.9</td>\n",
       "    </tr>\n",
       "    <tr>\n",
       "      <th>6</th>\n",
       "      <td>7</td>\n",
       "      <td>11.0</td>\n",
       "      <td>66</td>\n",
       "      <td>15.6</td>\n",
       "    </tr>\n",
       "    <tr>\n",
       "      <th>7</th>\n",
       "      <td>8</td>\n",
       "      <td>11.0</td>\n",
       "      <td>75</td>\n",
       "      <td>18.2</td>\n",
       "    </tr>\n",
       "    <tr>\n",
       "      <th>20</th>\n",
       "      <td>21</td>\n",
       "      <td>14.0</td>\n",
       "      <td>78</td>\n",
       "      <td>34.5</td>\n",
       "    </tr>\n",
       "    <tr>\n",
       "      <th>30</th>\n",
       "      <td>31</td>\n",
       "      <td>20.6</td>\n",
       "      <td>87</td>\n",
       "      <td>77.0</td>\n",
       "    </tr>\n",
       "    <tr>\n",
       "      <th>21</th>\n",
       "      <td>22</td>\n",
       "      <td>14.2</td>\n",
       "      <td>80</td>\n",
       "      <td>31.7</td>\n",
       "    </tr>\n",
       "  </tbody>\n",
       "</table>\n",
       "</div>"
      ],
      "text/plain": [
       "    Index   \"Girth (in)\"   \"Height (ft)\"   \"Volume(ft^3)\"\n",
       "25     26           17.3              81             55.4\n",
       "0       1            8.3              70             10.3\n",
       "13     14           11.7              69             21.3\n",
       "3       4           10.5              72             16.4\n",
       "19     20           13.8              64             24.9\n",
       "6       7           11.0              66             15.6\n",
       "7       8           11.0              75             18.2\n",
       "20     21           14.0              78             34.5\n",
       "30     31           20.6              87             77.0\n",
       "21     22           14.2              80             31.7"
      ]
     },
     "metadata": {},
     "execution_count": 61
    }
   ],
   "metadata": {}
  },
  {
   "cell_type": "code",
   "execution_count": 56,
   "source": [
    "fig = plt.gcf()\n",
    "fig.set_size_inches(8, 8)\n",
    "\n",
    "dadosTree.boxplot(column=[' \"Volume(ft^3)\"']);"
   ],
   "outputs": [
    {
     "output_type": "display_data",
     "data": {
      "image/png": "[encoded data removed]",
      "text/plain": [
       "<Figure size 576x576 with 1 Axes>"
      ]
     },
     "metadata": {
      "needs_background": "light"
     }
    }
   ],
   "metadata": {}
  }
 ],
 "metadata": {
  "orig_nbformat": 4,
  "language_info": {
   "name": "python",
   "version": "3.9.7",
   "mimetype": "text/x-python",
   "codemirror_mode": {
    "name": "ipython",
    "version": 3
   },
   "pygments_lexer": "ipython3",
   "nbconvert_exporter": "python",
   "file_extension": ".py"
  },
  "kernelspec": {
   "name": "python3",
   "display_name": "Python 3.9.7 64-bit"
  },
  "interpreter": {
   "hash": "e7370f93d1d0cde622a1f8e1c04877d8463912d04d973331ad4851f04de6915a"
  }
 },
 "nbformat": 4,
 "nbformat_minor": 2
}