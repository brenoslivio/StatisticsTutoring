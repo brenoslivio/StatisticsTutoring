{
  "cells": [
    {
      "cell_type": "markdown",
      "metadata": {
        "id": "view-in-github",
        "colab_type": "text"
      },
      "source": [
        "<a href=\"https://colab.research.google.com/github/brenoslivio/StatisticsTutoring/blob/main/Monitoria_Aula_Pratica.ipynb\" target=\"_parent\"><img src=\"https://colab.research.google.com/assets/colab-badge.svg\" alt=\"Open In Colab\"/></a>"
      ]
    },
    {
      "cell_type": "markdown",
      "source": [
        "# SME0320 - Estatística I\n",
        "\n",
        "**Monitoria - Aula Prática de Análise de Dados**\n",
        "\n",
        "\n",
        "*Material para Aula Prática de Análise de Dados em 22/12/2021. Para a execução desse Jupyter Notebook clique no botão acima para abrir na plataforma Google Colab.*\n",
        "\n",
        "---"
      ],
      "metadata": {
        "id": "q2cIxSLMHc2M"
      }
    },
    {
      "cell_type": "markdown",
      "source": [
        "## Apresentação ao ambiente Jupyter"
      ],
      "metadata": {
        "id": "auiMrrCqHc2Y"
      }
    },
    {
      "cell_type": "markdown",
      "source": [
        "### Células de texto e de código"
      ],
      "metadata": {
        "id": "oCgDt0QmHc2a"
      }
    },
    {
      "cell_type": "markdown",
      "source": [
        "O ambiente de trabalho do Jupyter é composto por células de texto e de código. O ambiente funciona de forma interativa, permitindo que o usuário interaja com o código ao executá-lo. Exemplo de célula de código:"
      ],
      "metadata": {
        "id": "a-WvmkSpHc2c"
      }
    },
    {
      "cell_type": "code",
      "execution_count": null,
      "source": [
        "a = 25\n",
        "b = 35\n",
        "\n",
        "a"
      ],
      "outputs": [
        {
          "output_type": "execute_result",
          "data": {
            "text/plain": [
              "25"
            ]
          },
          "metadata": {},
          "execution_count": 1
        }
      ],
      "metadata": {
        "id": "N2UiLOZiHc2d",
        "outputId": "68aeadc9-479c-43c4-e9c7-e84c85e54906"
      }
    },
    {
      "cell_type": "markdown",
      "source": [
        "Após indicados valores para as variáveis, a célula de código devolveu o valor da variável 'a' por ter sido a última linha do código. Exemplo se quiséssemos a soma das variáveis:"
      ],
      "metadata": {
        "id": "IuhFGCH5Hc2h"
      }
    },
    {
      "cell_type": "code",
      "execution_count": null,
      "source": [
        "a + b"
      ],
      "outputs": [
        {
          "output_type": "execute_result",
          "data": {
            "text/plain": [
              "60"
            ]
          },
          "metadata": {},
          "execution_count": 2
        }
      ],
      "metadata": {
        "id": "TOjDtmu7Hc2i",
        "outputId": "720f6a89-d0ae-4a5a-cc81-1938ba139338"
      }
    },
    {
      "cell_type": "markdown",
      "source": [
        "Se colocamos um novo valor para 'a' perceba que o resultado da célula de cima será alterado. Isso ocorre pois na execução do Notebook Jupyter, existe uma espécie de memória alocada para as variáveis."
      ],
      "metadata": {
        "id": "GR0YJ574Hc2j"
      }
    },
    {
      "cell_type": "code",
      "execution_count": null,
      "source": [
        "a = 37"
      ],
      "outputs": [],
      "metadata": {
        "id": "76DxfwpnHc2k"
      }
    },
    {
      "cell_type": "markdown",
      "source": [
        "### Bibliotecas"
      ],
      "metadata": {
        "id": "SLw7Lz9QHc2l"
      }
    },
    {
      "cell_type": "markdown",
      "source": [
        "#### ![Pandas](https://github.com/brenoslivio/StatisticsTutoring/blob/main/imgs/img2.png?raw=1)"
      ],
      "metadata": {
        "id": "0v1ATLpwHc2m"
      }
    },
    {
      "cell_type": "markdown",
      "source": [
        "Pandas é uma biblioteca de Python que permite trabalhar com conjuntos de dados ao possibilitar diversas funções de análise apropriadas para análise.\n",
        "\n",
        "Mais exemplos de funções do Pandas: [Pandas User Guide](https://pandas.pydata.org/docs/user_guide/index.html).\n",
        "\n",
        "Vamos carregar um conjunto de dados de tartarugas:"
      ],
      "metadata": {
        "id": "PnN4OJY2Hc2o"
      }
    },
    {
      "cell_type": "code",
      "execution_count": null,
      "source": [
        "import pandas as pd\n",
        "\n",
        "# Lê o arquivo csv\n",
        "dadosTartaruga = pd.read_csv(\"https://people.math.sc.edu/Burkardt/datasets/csv/turtles.csv\")\n",
        "\n",
        "# Mostra 10 primeiras observações do csv\n",
        "dadosTartaruga.head(10)"
      ],
      "outputs": [
        {
          "output_type": "execute_result",
          "data": {
            "text/html": [
              "<div>\n",
              "<style scoped>\n",
              "    .dataframe tbody tr th:only-of-type {\n",
              "        vertical-align: middle;\n",
              "    }\n",
              "\n",
              "    .dataframe tbody tr th {\n",
              "        vertical-align: top;\n",
              "    }\n",
              "\n",
              "    .dataframe thead th {\n",
              "        text-align: right;\n",
              "    }\n",
              "</style>\n",
              "<table border=\"1\" class=\"dataframe\">\n",
              "  <thead>\n",
              "    <tr style=\"text-align: right;\">\n",
              "      <th></th>\n",
              "      <th>INDEX</th>\n",
              "      <th>COLLECTION</th>\n",
              "      <th>SEX</th>\n",
              "      <th>LENGTH</th>\n",
              "      <th>WIDTH</th>\n",
              "      <th>HEIGHT</th>\n",
              "    </tr>\n",
              "  </thead>\n",
              "  <tbody>\n",
              "    <tr>\n",
              "      <th>0</th>\n",
              "      <td>1</td>\n",
              "      <td>\"CMNH\"</td>\n",
              "      <td>\"F\"</td>\n",
              "      <td>202</td>\n",
              "      <td>156</td>\n",
              "      <td>89</td>\n",
              "    </tr>\n",
              "    <tr>\n",
              "      <th>1</th>\n",
              "      <td>2</td>\n",
              "      <td>\"CMNH\"</td>\n",
              "      <td>\"F\"</td>\n",
              "      <td>198</td>\n",
              "      <td>153</td>\n",
              "      <td>91</td>\n",
              "    </tr>\n",
              "    <tr>\n",
              "      <th>2</th>\n",
              "      <td>3</td>\n",
              "      <td>\"CMNH\"</td>\n",
              "      <td>\"F\"</td>\n",
              "      <td>198</td>\n",
              "      <td>153</td>\n",
              "      <td>89</td>\n",
              "    </tr>\n",
              "    <tr>\n",
              "      <th>3</th>\n",
              "      <td>4</td>\n",
              "      <td>\"CMNH\"</td>\n",
              "      <td>\"F\"</td>\n",
              "      <td>213</td>\n",
              "      <td>164</td>\n",
              "      <td>90</td>\n",
              "    </tr>\n",
              "    <tr>\n",
              "      <th>4</th>\n",
              "      <td>5</td>\n",
              "      <td>\"CMNH\"</td>\n",
              "      <td>\"F\"</td>\n",
              "      <td>214</td>\n",
              "      <td>165</td>\n",
              "      <td>88</td>\n",
              "    </tr>\n",
              "    <tr>\n",
              "      <th>5</th>\n",
              "      <td>6</td>\n",
              "      <td>\"CMNH\"</td>\n",
              "      <td>\"F\"</td>\n",
              "      <td>162</td>\n",
              "      <td>132</td>\n",
              "      <td>67</td>\n",
              "    </tr>\n",
              "    <tr>\n",
              "      <th>6</th>\n",
              "      <td>7</td>\n",
              "      <td>\"CMNH\"</td>\n",
              "      <td>\"F\"</td>\n",
              "      <td>203</td>\n",
              "      <td>157</td>\n",
              "      <td>84</td>\n",
              "    </tr>\n",
              "    <tr>\n",
              "      <th>7</th>\n",
              "      <td>8</td>\n",
              "      <td>\"CMNH\"</td>\n",
              "      <td>\"F\"</td>\n",
              "      <td>186</td>\n",
              "      <td>150</td>\n",
              "      <td>80</td>\n",
              "    </tr>\n",
              "    <tr>\n",
              "      <th>8</th>\n",
              "      <td>9</td>\n",
              "      <td>\"SREL\"</td>\n",
              "      <td>\"F\"</td>\n",
              "      <td>196</td>\n",
              "      <td>163</td>\n",
              "      <td>85</td>\n",
              "    </tr>\n",
              "    <tr>\n",
              "      <th>9</th>\n",
              "      <td>10</td>\n",
              "      <td>\"SREL\"</td>\n",
              "      <td>\"F\"</td>\n",
              "      <td>225</td>\n",
              "      <td>183</td>\n",
              "      <td>100</td>\n",
              "    </tr>\n",
              "  </tbody>\n",
              "</table>\n",
              "</div>"
            ],
            "text/plain": [
              "   INDEX COLLECTION         SEX  LENGTH  WIDTH  HEIGHT\n",
              "0      1     \"CMNH\"         \"F\"     202    156      89\n",
              "1      2     \"CMNH\"         \"F\"     198    153      91\n",
              "2      3     \"CMNH\"         \"F\"     198    153      89\n",
              "3      4     \"CMNH\"         \"F\"     213    164      90\n",
              "4      5     \"CMNH\"         \"F\"     214    165      88\n",
              "5      6     \"CMNH\"         \"F\"     162    132      67\n",
              "6      7     \"CMNH\"         \"F\"     203    157      84\n",
              "7      8     \"CMNH\"         \"F\"     186    150      80\n",
              "8      9     \"SREL\"         \"F\"     196    163      85\n",
              "9     10     \"SREL\"         \"F\"     225    183     100"
            ]
          },
          "metadata": {},
          "execution_count": 4
        }
      ],
      "metadata": {
        "id": "YJB4oIZ7Hc2o",
        "outputId": "00673544-51c5-47b4-ca29-9f2fb568a1da"
      }
    },
    {
      "cell_type": "markdown",
      "source": [
        "#### ![Matplotlib](https://matplotlib.org/_static/images/logo2.svg)"
      ],
      "metadata": {
        "id": "I7tFls4oHc2q"
      }
    },
    {
      "cell_type": "markdown",
      "source": [
        "Temos também bibliotecas para visualização de gráficos, sendo uma das mais conhecidas a Matplotlib. \n",
        "\n",
        "Para mais exemplos de funções acesse: [matplotlib.org](https://matplotlib.org/).\n",
        "\n",
        "Temos, por exemplo, o seguinte gráfico em barras para quantidade de tartarugas machos e fêmeas:"
      ],
      "metadata": {
        "id": "lKU1hgniHc2q"
      }
    },
    {
      "cell_type": "code",
      "execution_count": null,
      "source": [
        "import matplotlib.pyplot as plt\n",
        "\n",
        "# Frequência para cada tipo único da variável SEX\n",
        "sex = dadosTartaruga['SEX'].value_counts().to_frame().reset_index()\n",
        "\n",
        "# Nome para as colunas\n",
        "sex.columns = ['Sexo', 'Frequência']\n",
        "\n",
        "# Gráfico em barras\n",
        "sex.plot.bar(x = 'Sexo', y = 'Frequência', rot = 0, title = \"Número de tartarugas machos e fêmeas\");\n",
        "\n",
        "# Configurações da parte gráfica\n",
        "fig = plt.gcf()\n",
        "fig.set_size_inches(8, 8) # Tamanho da imagem\n",
        "\n",
        "plt.show();"
      ],
      "outputs": [
        {
          "output_type": "display_data",
          "data": {
            "image/png": "[encoded data removed]",
            "text/plain": [
              "<Figure size 576x576 with 1 Axes>"
            ]
          },
          "metadata": {
            "needs_background": "light"
          }
        }
      ],
      "metadata": {
        "id": "YNZI7-XqHc2s",
        "outputId": "5b0a1259-38f2-4e65-dfe7-62ed68fbef8b"
      }
    },
    {
      "cell_type": "markdown",
      "source": [
        "#### ![SciPy](https://www.firelinescience.com/wp-content/uploads/2019/09/SciPy-Logo.png)"
      ],
      "metadata": {
        "id": "LV5unP_DHc2t"
      }
    },
    {
      "cell_type": "markdown",
      "source": [
        "SciPy é uma biblioteca de computação científica para Python. Ela contém diversas funções estatísticas que podem ser úteis para análise de dados.\n",
        "\n",
        "Para mais informações das funções acesse: [Statistical functions](https://docs.scipy.org/doc/scipy/reference/stats.html).\n",
        "\n",
        "Encontrando o valor Z dado o percentil 0.975 na distribuição normal padrão:"
      ],
      "metadata": {
        "id": "QOVlbJppHc2u"
      }
    },
    {
      "cell_type": "code",
      "execution_count": null,
      "source": [
        "from scipy import stats\n",
        "\n",
        "stats.norm.ppf(0.975)"
      ],
      "outputs": [
        {
          "output_type": "execute_result",
          "data": {
            "text/plain": [
              "1.959963984540054"
            ]
          },
          "metadata": {},
          "execution_count": 6
        }
      ],
      "metadata": {
        "id": "O-e8vZsTHc2u",
        "outputId": "d1e5ed7c-86cc-412c-aad3-0de60b5de43b"
      }
    },
    {
      "cell_type": "markdown",
      "source": [
        "Encontrando o percentil dado o valor Z:"
      ],
      "metadata": {
        "id": "Lx7S1kXUHc2w"
      }
    },
    {
      "cell_type": "code",
      "execution_count": null,
      "source": [
        "stats.norm.cdf(1.96)"
      ],
      "outputs": [
        {
          "output_type": "execute_result",
          "data": {
            "text/plain": [
              "0.9750021048517795"
            ]
          },
          "metadata": {},
          "execution_count": 7
        }
      ],
      "metadata": {
        "id": "cSa8gIWHHc2w",
        "outputId": "f3830fce-e679-474a-b079-6718c3c65900"
      }
    },
    {
      "cell_type": "markdown",
      "source": [
        "## Análise Descritiva"
      ],
      "metadata": {
        "id": "AN8AD5S4Hc2w"
      }
    },
    {
      "cell_type": "markdown",
      "source": [
        "Sobretudo, para uma Análise Descritiva dos dados, é importante nos relembrarmos das características que as variáveis podem assumir:\n",
        "\n",
        "![img1](https://github.com/brenoslivio/StatisticsTutoring/blob/main/imgs/img1.png?raw=1)\n",
        "\n",
        "Ao classificar propriamente as variáveis conseguimos adquirir noções de, por exemplo, quais gráficos fazem sentido para a visualização dos dados."
      ],
      "metadata": {
        "id": "NLiME4MkHc2w"
      }
    },
    {
      "cell_type": "markdown",
      "source": [
        "Ainda com os dados das tartarugas, vemos variáveis como COLLECTION, que é uma variável qualitativa. Considerando isso, uma medida interessante de se analisar é a moda:"
      ],
      "metadata": {
        "id": "WsFnRpQsHc2x"
      }
    },
    {
      "cell_type": "code",
      "execution_count": null,
      "source": [
        "dadosTartaruga[\"COLLECTION\"].mode()"
      ],
      "outputs": [
        {
          "output_type": "execute_result",
          "data": {
            "text/plain": [
              "0      \"SREL\"\n",
              "dtype: object"
            ]
          },
          "metadata": {},
          "execution_count": 8
        }
      ],
      "metadata": {
        "id": "0Drl_Yv5Hc2x",
        "outputId": "1793167a-2c72-4472-f764-15501cd767e9"
      }
    },
    {
      "cell_type": "markdown",
      "source": [
        "Agora trabalhando com dados de árvores que possui apenas variáveis contínuas para análise:"
      ],
      "metadata": {
        "id": "0PYlWkY9Hc2y"
      }
    },
    {
      "cell_type": "code",
      "execution_count": null,
      "source": [
        "dadosTree = pd.read_csv(\"https://people.math.sc.edu/Burkardt/datasets/csv/trees.csv\")\n",
        "\n",
        "# 10 amostras aleatórias\n",
        "dadosTree.sample(10)"
      ],
      "outputs": [
        {
          "output_type": "execute_result",
          "data": {
            "text/html": [
              "<div>\n",
              "<style scoped>\n",
              "    .dataframe tbody tr th:only-of-type {\n",
              "        vertical-align: middle;\n",
              "    }\n",
              "\n",
              "    .dataframe tbody tr th {\n",
              "        vertical-align: top;\n",
              "    }\n",
              "\n",
              "    .dataframe thead th {\n",
              "        text-align: right;\n",
              "    }\n",
              "</style>\n",
              "<table border=\"1\" class=\"dataframe\">\n",
              "  <thead>\n",
              "    <tr style=\"text-align: right;\">\n",
              "      <th></th>\n",
              "      <th>Index</th>\n",
              "      <th>\"Girth (in)\"</th>\n",
              "      <th>\"Height (ft)\"</th>\n",
              "      <th>\"Volume(ft^3)\"</th>\n",
              "    </tr>\n",
              "  </thead>\n",
              "  <tbody>\n",
              "    <tr>\n",
              "      <th>2</th>\n",
              "      <td>3</td>\n",
              "      <td>8.8</td>\n",
              "      <td>63</td>\n",
              "      <td>10.2</td>\n",
              "    </tr>\n",
              "    <tr>\n",
              "      <th>7</th>\n",
              "      <td>8</td>\n",
              "      <td>11.0</td>\n",
              "      <td>75</td>\n",
              "      <td>18.2</td>\n",
              "    </tr>\n",
              "    <tr>\n",
              "      <th>13</th>\n",
              "      <td>14</td>\n",
              "      <td>11.7</td>\n",
              "      <td>69</td>\n",
              "      <td>21.3</td>\n",
              "    </tr>\n",
              "    <tr>\n",
              "      <th>26</th>\n",
              "      <td>27</td>\n",
              "      <td>17.5</td>\n",
              "      <td>82</td>\n",
              "      <td>55.7</td>\n",
              "    </tr>\n",
              "    <tr>\n",
              "      <th>1</th>\n",
              "      <td>2</td>\n",
              "      <td>8.6</td>\n",
              "      <td>65</td>\n",
              "      <td>10.3</td>\n",
              "    </tr>\n",
              "    <tr>\n",
              "      <th>6</th>\n",
              "      <td>7</td>\n",
              "      <td>11.0</td>\n",
              "      <td>66</td>\n",
              "      <td>15.6</td>\n",
              "    </tr>\n",
              "    <tr>\n",
              "      <th>23</th>\n",
              "      <td>24</td>\n",
              "      <td>16.0</td>\n",
              "      <td>72</td>\n",
              "      <td>38.3</td>\n",
              "    </tr>\n",
              "    <tr>\n",
              "      <th>8</th>\n",
              "      <td>9</td>\n",
              "      <td>11.1</td>\n",
              "      <td>80</td>\n",
              "      <td>22.6</td>\n",
              "    </tr>\n",
              "    <tr>\n",
              "      <th>20</th>\n",
              "      <td>21</td>\n",
              "      <td>14.0</td>\n",
              "      <td>78</td>\n",
              "      <td>34.5</td>\n",
              "    </tr>\n",
              "    <tr>\n",
              "      <th>17</th>\n",
              "      <td>18</td>\n",
              "      <td>13.3</td>\n",
              "      <td>86</td>\n",
              "      <td>27.4</td>\n",
              "    </tr>\n",
              "  </tbody>\n",
              "</table>\n",
              "</div>"
            ],
            "text/plain": [
              "    Index   \"Girth (in)\"   \"Height (ft)\"   \"Volume(ft^3)\"\n",
              "2       3            8.8              63             10.2\n",
              "7       8           11.0              75             18.2\n",
              "13     14           11.7              69             21.3\n",
              "26     27           17.5              82             55.7\n",
              "1       2            8.6              65             10.3\n",
              "6       7           11.0              66             15.6\n",
              "23     24           16.0              72             38.3\n",
              "8       9           11.1              80             22.6\n",
              "20     21           14.0              78             34.5\n",
              "17     18           13.3              86             27.4"
            ]
          },
          "metadata": {},
          "execution_count": 9
        }
      ],
      "metadata": {
        "id": "4J8kvbk1Hc2z",
        "outputId": "2dad961e-1a1b-40a5-a00a-187298143009"
      }
    },
    {
      "cell_type": "markdown",
      "source": [
        "Vamos calcular o primeiro quartil para a variável de volume:"
      ],
      "metadata": {
        "id": "MmZ8OsP8Hc20"
      }
    },
    {
      "cell_type": "code",
      "execution_count": null,
      "source": [
        "dadosTree[' \"Volume(ft^3)\"'].quantile(0.25)"
      ],
      "outputs": [
        {
          "output_type": "execute_result",
          "data": {
            "text/plain": [
              "19.4"
            ]
          },
          "metadata": {},
          "execution_count": 10
        }
      ],
      "metadata": {
        "id": "L6kC4q9pHc20",
        "outputId": "d2005fe3-fc67-46ef-df33-f7b54adb75ba"
      }
    },
    {
      "cell_type": "markdown",
      "source": [
        "Podemos também desenvolver um box plot para visualizar a distribuição da variável:"
      ],
      "metadata": {
        "id": "_u18I3w2Hc21"
      }
    },
    {
      "cell_type": "code",
      "execution_count": null,
      "source": [
        "# Configuração da parte gráfica\n",
        "fig = plt.gcf()\n",
        "fig.set_size_inches(8, 8) # Tamanho da imagem\n",
        "\n",
        "dadosTree.boxplot(column = [' \"Volume(ft^3)\"']);"
      ],
      "outputs": [
        {
          "output_type": "display_data",
          "data": {
            "image/png": "[encoded data removed]",
            "text/plain": [
              "<Figure size 576x576 with 1 Axes>"
            ]
          },
          "metadata": {
            "needs_background": "light"
          }
        }
      ],
      "metadata": {
        "id": "vdjThHPMHc21",
        "outputId": "1215d96e-5001-41f4-ea9b-31a8c5c1f789"
      }
    },
    {
      "cell_type": "markdown",
      "source": [
        "Em gráficos de caixas conseguimos detectar visualmente a presença de valores discrepantes (outliers). Eles são considerando de acordo com a distância interquartil, dada pela diferença do terceiro quartil pelo primeiro:\n",
        "\n",
        "$$IQR = Q_3 - Q_1$$\n",
        "\n",
        "E podemos considerar como valor discrepante com:\n",
        "\n",
        "$$outliers = x_i\\;<\\;(Q_1 - k.IQR)\\;\\vee\\;x_i\\;>\\;(Q_3 + k.IQR)$$\n",
        "\n",
        "Sendo $k$ um valor arbitrário, geralmente adotado na literatura $k = 1.5$, mas pode ser mudado conforme a intenção da análise.\n",
        "\n",
        "Para o gráfico de caixa anterior, podemos encontrar a observação que teve a variável de volume como discrepante:"
      ],
      "metadata": {
        "id": "vtha1N0eHc23"
      }
    },
    {
      "cell_type": "code",
      "execution_count": null,
      "source": [
        "Q1 = dadosTree[' \"Volume(ft^3)\"'].quantile(0.25) # Primeiro quartil\n",
        "Q3 = dadosTree[' \"Volume(ft^3)\"'].quantile(0.75) # Terceiro quartil\n",
        "\n",
        "IQR = Q3 - Q1 # Distância interquartil\n",
        "\n",
        "# Analisamos acima do terceiro quartil\n",
        "dadosTree[dadosTree[' \"Volume(ft^3)\"'] > (Q3 + 1.5 * IQR)]"
      ],
      "outputs": [
        {
          "output_type": "execute_result",
          "data": {
            "text/html": [
              "<div>\n",
              "<style scoped>\n",
              "    .dataframe tbody tr th:only-of-type {\n",
              "        vertical-align: middle;\n",
              "    }\n",
              "\n",
              "    .dataframe tbody tr th {\n",
              "        vertical-align: top;\n",
              "    }\n",
              "\n",
              "    .dataframe thead th {\n",
              "        text-align: right;\n",
              "    }\n",
              "</style>\n",
              "<table border=\"1\" class=\"dataframe\">\n",
              "  <thead>\n",
              "    <tr style=\"text-align: right;\">\n",
              "      <th></th>\n",
              "      <th>Index</th>\n",
              "      <th>\"Girth (in)\"</th>\n",
              "      <th>\"Height (ft)\"</th>\n",
              "      <th>\"Volume(ft^3)\"</th>\n",
              "    </tr>\n",
              "  </thead>\n",
              "  <tbody>\n",
              "    <tr>\n",
              "      <th>30</th>\n",
              "      <td>31</td>\n",
              "      <td>20.6</td>\n",
              "      <td>87</td>\n",
              "      <td>77.0</td>\n",
              "    </tr>\n",
              "  </tbody>\n",
              "</table>\n",
              "</div>"
            ],
            "text/plain": [
              "    Index   \"Girth (in)\"   \"Height (ft)\"   \"Volume(ft^3)\"\n",
              "30     31           20.6              87             77.0"
            ]
          },
          "metadata": {},
          "execution_count": 12
        }
      ],
      "metadata": {
        "id": "tJY7V1zEHc24",
        "outputId": "7e1ab669-c322-451c-c620-e2ae1f9967fd"
      }
    },
    {
      "cell_type": "markdown",
      "source": [
        "Sabemos que o desvio padrão é calculado por:\n",
        "\n",
        "$$\\sigma = \\sqrt{\\sigma^2} = \\sqrt{\\frac{1}{N}\\displaystyle\\sum_{i=1}^{N}(x_i - \\mu)^2}$$\n",
        "\n",
        "Entretanto, a fórmula é considerada um estimador enviesado para considerar uma população. Temos o seguinte estimador não viesado:\n",
        "\n",
        "$$\\sigma = \\sqrt{\\sigma^2} = \\sqrt{\\frac{1}{N - 1}\\displaystyle\\sum_{i=1}^{N}(x_i - \\mu)^2}$$\n",
        "\n",
        "É importante notar propriedades de certos estimadores, principalmente considerando o manuseio de dados que lidam com amostras de uma população. Temos a função do Pandas que faz o cálculo considerando o estimador não viesado:"
      ],
      "metadata": {
        "id": "kW4cwdqtHc24"
      }
    },
    {
      "cell_type": "code",
      "execution_count": null,
      "source": [
        "dadosTree[' \"Girth (in)\"'].std(ddof = 1)"
      ],
      "outputs": [
        {
          "output_type": "execute_result",
          "data": {
            "text/plain": [
              "3.1381386168387504"
            ]
          },
          "metadata": {},
          "execution_count": 13
        }
      ],
      "metadata": {
        "id": "roQVrJs4Hc25",
        "outputId": "a0c0f4b1-9907-4c26-984a-5965850f047e"
      }
    },
    {
      "cell_type": "markdown",
      "source": [
        "O parâmetro 'ddof' da função indica os \"graus de liberdade\", é o número de valores no cálculo final de uma estatística que são livres para variar. Usamos o valor 1 na função para indicar que queremos usar N - 1 graus de liberdade, o que nos dá um estimador não viesado."
      ],
      "metadata": {
        "id": "WZh5g59vHc26"
      }
    },
    {
      "cell_type": "markdown",
      "source": [
        "A função 'corr' do Pandas calcula o coeficiente de correlação linear (Pearson) entre os possíveis pares de variáveis:"
      ],
      "metadata": {
        "id": "8I-0fJ3UHc26"
      }
    },
    {
      "cell_type": "code",
      "execution_count": null,
      "source": [
        "dadosTree.corr(method = 'pearson')"
      ],
      "outputs": [
        {
          "output_type": "execute_result",
          "data": {
            "text/html": [
              "<div>\n",
              "<style scoped>\n",
              "    .dataframe tbody tr th:only-of-type {\n",
              "        vertical-align: middle;\n",
              "    }\n",
              "\n",
              "    .dataframe tbody tr th {\n",
              "        vertical-align: top;\n",
              "    }\n",
              "\n",
              "    .dataframe thead th {\n",
              "        text-align: right;\n",
              "    }\n",
              "</style>\n",
              "<table border=\"1\" class=\"dataframe\">\n",
              "  <thead>\n",
              "    <tr style=\"text-align: right;\">\n",
              "      <th></th>\n",
              "      <th>Index</th>\n",
              "      <th>\"Girth (in)\"</th>\n",
              "      <th>\"Height (ft)\"</th>\n",
              "      <th>\"Volume(ft^3)\"</th>\n",
              "    </tr>\n",
              "  </thead>\n",
              "  <tbody>\n",
              "    <tr>\n",
              "      <th>Index</th>\n",
              "      <td>1.000000</td>\n",
              "      <td>0.967207</td>\n",
              "      <td>0.467204</td>\n",
              "      <td>0.903349</td>\n",
              "    </tr>\n",
              "    <tr>\n",
              "      <th>\"Girth (in)\"</th>\n",
              "      <td>0.967207</td>\n",
              "      <td>1.000000</td>\n",
              "      <td>0.519280</td>\n",
              "      <td>0.967119</td>\n",
              "    </tr>\n",
              "    <tr>\n",
              "      <th>\"Height (ft)\"</th>\n",
              "      <td>0.467204</td>\n",
              "      <td>0.519280</td>\n",
              "      <td>1.000000</td>\n",
              "      <td>0.598250</td>\n",
              "    </tr>\n",
              "    <tr>\n",
              "      <th>\"Volume(ft^3)\"</th>\n",
              "      <td>0.903349</td>\n",
              "      <td>0.967119</td>\n",
              "      <td>0.598250</td>\n",
              "      <td>1.000000</td>\n",
              "    </tr>\n",
              "  </tbody>\n",
              "</table>\n",
              "</div>"
            ],
            "text/plain": [
              "                    Index   \"Girth (in)\"   \"Height (ft)\"   \"Volume(ft^3)\"\n",
              "Index            1.000000       0.967207        0.467204         0.903349\n",
              " \"Girth (in)\"    0.967207       1.000000        0.519280         0.967119\n",
              " \"Height (ft)\"   0.467204       0.519280        1.000000         0.598250\n",
              " \"Volume(ft^3)\"  0.903349       0.967119        0.598250         1.000000"
            ]
          },
          "metadata": {},
          "execution_count": 14
        }
      ],
      "metadata": {
        "id": "LL6Hs6N1Hc26",
        "outputId": "24a4b43a-b3e0-49a0-a760-af15b88b94c2"
      }
    },
    {
      "cell_type": "markdown",
      "source": [
        "Pares com Index podem ser descartados por a variável ser apenas um índice para as observações. Podemos observar uma correlação alta entre a variável de volume e circunfêrencia da árvore. Podemos fazer o seguinte gráfico de dispersão (scatter plot) e analisar visualmente a correlação entre as variáveis, também fazendo uma regressão linear simples:"
      ],
      "metadata": {
        "id": "EzlySC9lHc27"
      }
    },
    {
      "cell_type": "code",
      "execution_count": null,
      "source": [
        "import numpy as np # Biblioteca para calcular regressão\n",
        "\n",
        "x = dadosTree[' \"Girth (in)\"']\n",
        "y = dadosTree[' \"Volume(ft^3)\"']\n",
        "\n",
        "# Gráfico de pontos\n",
        "plt.scatter(x, y, c = 'DarkBlue')\n",
        "\n",
        "# Regressão linear\n",
        "z = np.polyfit(x, y, 1)\n",
        "p = np.poly1d(z)\n",
        "plt.plot(x, p(x), \"r--\")\n",
        "\n",
        "# Configuração do gráfico e ajuste do tamanho\n",
        "fig = plt.gcf()\n",
        "fig.set_size_inches(12, 10)\n",
        "\n",
        "plt.show();"
      ],
      "outputs": [
        {
          "output_type": "display_data",
          "data": {
            "image/png": "[encoded data removed]",
            "text/plain": [
              "<Figure size 864x720 with 1 Axes>"
            ]
          },
          "metadata": {
            "needs_background": "light"
          }
        }
      ],
      "metadata": {
        "id": "nDLyyLB7Hc27",
        "outputId": "7b927133-6791-404c-a270-2361218e6864"
      }
    },
    {
      "cell_type": "markdown",
      "source": [
        "Agora vamos carregar um conjunto de dados de seguros e analisar os tipos de frequências para as regiões das observações coletadas:"
      ],
      "metadata": {
        "id": "uazzRaN8Hc28"
      }
    },
    {
      "cell_type": "code",
      "execution_count": null,
      "source": [
        "dadosSeguro = pd.read_csv('https://people.math.sc.edu/Burkardt/datasets/csv/insurance.csv')\n",
        "\n",
        "# 10 amostras aleatórias\n",
        "dadosSeguro.sample(10)"
      ],
      "outputs": [
        {
          "output_type": "execute_result",
          "data": {
            "text/html": [
              "<div>\n",
              "<style scoped>\n",
              "    .dataframe tbody tr th:only-of-type {\n",
              "        vertical-align: middle;\n",
              "    }\n",
              "\n",
              "    .dataframe tbody tr th {\n",
              "        vertical-align: top;\n",
              "    }\n",
              "\n",
              "    .dataframe thead th {\n",
              "        text-align: right;\n",
              "    }\n",
              "</style>\n",
              "<table border=\"1\" class=\"dataframe\">\n",
              "  <thead>\n",
              "    <tr style=\"text-align: right;\">\n",
              "      <th></th>\n",
              "      <th>age</th>\n",
              "      <th>sex</th>\n",
              "      <th>bmi</th>\n",
              "      <th>children</th>\n",
              "      <th>smoker</th>\n",
              "      <th>region</th>\n",
              "      <th>charges</th>\n",
              "    </tr>\n",
              "  </thead>\n",
              "  <tbody>\n",
              "    <tr>\n",
              "      <th>1008</th>\n",
              "      <td>25</td>\n",
              "      <td>male</td>\n",
              "      <td>24.985</td>\n",
              "      <td>2</td>\n",
              "      <td>no</td>\n",
              "      <td>northeast</td>\n",
              "      <td>23241.47453</td>\n",
              "    </tr>\n",
              "    <tr>\n",
              "      <th>1102</th>\n",
              "      <td>29</td>\n",
              "      <td>male</td>\n",
              "      <td>38.940</td>\n",
              "      <td>1</td>\n",
              "      <td>no</td>\n",
              "      <td>southeast</td>\n",
              "      <td>3471.40960</td>\n",
              "    </tr>\n",
              "    <tr>\n",
              "      <th>927</th>\n",
              "      <td>57</td>\n",
              "      <td>female</td>\n",
              "      <td>20.100</td>\n",
              "      <td>1</td>\n",
              "      <td>no</td>\n",
              "      <td>southwest</td>\n",
              "      <td>12032.32600</td>\n",
              "    </tr>\n",
              "    <tr>\n",
              "      <th>1334</th>\n",
              "      <td>18</td>\n",
              "      <td>female</td>\n",
              "      <td>31.920</td>\n",
              "      <td>0</td>\n",
              "      <td>no</td>\n",
              "      <td>northeast</td>\n",
              "      <td>2205.98080</td>\n",
              "    </tr>\n",
              "    <tr>\n",
              "      <th>1076</th>\n",
              "      <td>47</td>\n",
              "      <td>female</td>\n",
              "      <td>32.000</td>\n",
              "      <td>1</td>\n",
              "      <td>no</td>\n",
              "      <td>southwest</td>\n",
              "      <td>8551.34700</td>\n",
              "    </tr>\n",
              "    <tr>\n",
              "      <th>1175</th>\n",
              "      <td>22</td>\n",
              "      <td>female</td>\n",
              "      <td>27.100</td>\n",
              "      <td>0</td>\n",
              "      <td>no</td>\n",
              "      <td>southwest</td>\n",
              "      <td>2154.36100</td>\n",
              "    </tr>\n",
              "    <tr>\n",
              "      <th>159</th>\n",
              "      <td>50</td>\n",
              "      <td>female</td>\n",
              "      <td>27.830</td>\n",
              "      <td>3</td>\n",
              "      <td>no</td>\n",
              "      <td>southeast</td>\n",
              "      <td>19749.38338</td>\n",
              "    </tr>\n",
              "    <tr>\n",
              "      <th>320</th>\n",
              "      <td>34</td>\n",
              "      <td>male</td>\n",
              "      <td>25.270</td>\n",
              "      <td>1</td>\n",
              "      <td>no</td>\n",
              "      <td>northwest</td>\n",
              "      <td>4894.75330</td>\n",
              "    </tr>\n",
              "    <tr>\n",
              "      <th>782</th>\n",
              "      <td>51</td>\n",
              "      <td>male</td>\n",
              "      <td>35.970</td>\n",
              "      <td>1</td>\n",
              "      <td>no</td>\n",
              "      <td>southeast</td>\n",
              "      <td>9386.16130</td>\n",
              "    </tr>\n",
              "    <tr>\n",
              "      <th>1300</th>\n",
              "      <td>45</td>\n",
              "      <td>male</td>\n",
              "      <td>30.360</td>\n",
              "      <td>0</td>\n",
              "      <td>yes</td>\n",
              "      <td>southeast</td>\n",
              "      <td>62592.87309</td>\n",
              "    </tr>\n",
              "  </tbody>\n",
              "</table>\n",
              "</div>"
            ],
            "text/plain": [
              "      age     sex     bmi  children smoker     region      charges\n",
              "1008   25    male  24.985         2     no  northeast  23241.47453\n",
              "1102   29    male  38.940         1     no  southeast   3471.40960\n",
              "927    57  female  20.100         1     no  southwest  12032.32600\n",
              "1334   18  female  31.920         0     no  northeast   2205.98080\n",
              "1076   47  female  32.000         1     no  southwest   8551.34700\n",
              "1175   22  female  27.100         0     no  southwest   2154.36100\n",
              "159    50  female  27.830         3     no  southeast  19749.38338\n",
              "320    34    male  25.270         1     no  northwest   4894.75330\n",
              "782    51    male  35.970         1     no  southeast   9386.16130\n",
              "1300   45    male  30.360         0    yes  southeast  62592.87309"
            ]
          },
          "metadata": {},
          "execution_count": 16
        }
      ],
      "metadata": {
        "id": "IVuzxS8DHc29",
        "outputId": "172d8f02-eb81-4c22-c5c2-7724cbb1c182"
      }
    },
    {
      "cell_type": "markdown",
      "source": [
        "As frequências absolutas podem ser encontradas com a função 'value_counts()' do Pandas."
      ],
      "metadata": {
        "id": "ThkKoFqDHc29"
      }
    },
    {
      "cell_type": "code",
      "execution_count": null,
      "source": [
        "dadosSeguro['region'].value_counts()"
      ],
      "outputs": [
        {
          "output_type": "execute_result",
          "data": {
            "text/plain": [
              "southeast    364\n",
              "southwest    325\n",
              "northwest    325\n",
              "northeast    324\n",
              "Name: region, dtype: int64"
            ]
          },
          "metadata": {},
          "execution_count": 17
        }
      ],
      "metadata": {
        "id": "OGM5iIHFHc2-",
        "outputId": "6c26f965-6fe9-40f6-c179-09058eeaa9e8"
      }
    },
    {
      "cell_type": "markdown",
      "source": [
        "Da mesma forma, se quiséssemos as frequências relativas, podemos usar o parâmetro 'normalize = True':"
      ],
      "metadata": {
        "id": "iPcKKQLvHc2_"
      }
    },
    {
      "cell_type": "code",
      "execution_count": null,
      "source": [
        "dadosSeguro['region'].value_counts(normalize = True)"
      ],
      "outputs": [
        {
          "output_type": "execute_result",
          "data": {
            "text/plain": [
              "southeast    0.272048\n",
              "southwest    0.242900\n",
              "northwest    0.242900\n",
              "northeast    0.242152\n",
              "Name: region, dtype: float64"
            ]
          },
          "metadata": {},
          "execution_count": 18
        }
      ],
      "metadata": {
        "id": "EPEdgzf2Hc2_",
        "outputId": "9e9f2462-c6b3-4b95-a337-66669c1141ba"
      }
    },
    {
      "cell_type": "markdown",
      "source": [
        "Por fim, as frequências acumuladas são calculadas da seguinte forma, com a função 'cumsum()' adicionada:"
      ],
      "metadata": {
        "id": "M5kdj39ZHc3A"
      }
    },
    {
      "cell_type": "code",
      "execution_count": null,
      "source": [
        "dadosSeguro['region'].value_counts().cumsum()"
      ],
      "outputs": [
        {
          "output_type": "execute_result",
          "data": {
            "text/plain": [
              "southeast     364\n",
              "southwest     689\n",
              "northwest    1014\n",
              "northeast    1338\n",
              "Name: region, dtype: int64"
            ]
          },
          "metadata": {},
          "execution_count": 19
        }
      ],
      "metadata": {
        "id": "J-nQGGIkHc3B",
        "outputId": "7f799b0b-8893-4ba6-c75f-0de551a41e7d"
      }
    },
    {
      "cell_type": "markdown",
      "source": [
        "## Inferência Estatística"
      ],
      "metadata": {
        "id": "Ega5itQPHc3B"
      }
    },
    {
      "cell_type": "markdown",
      "source": [
        "A inferência estatística tem como objetivo fazer afirmações sobre uma característica de uma população a partir do conhecimento de dados de uma parte desta população. A análise descritiva é de suma importância para a inferência estatística por assumir valores estatísticos para os conjuntos de amostras usados de estudo para a inferência estatística.\n",
        "\n",
        "Vamos trabalhar com várias funções da biblioteca SciPy para o uso de métodos inferenciais.\n",
        "\n",
        "Vamos entender como calcular o intervalo de confiança considerando a média de uma variável em um conjunto de dados. Calculamos para a idade nos dados de seguros considerando um intervalo de 95% de confiança (usando distribuição t de Student):"
      ],
      "metadata": {
        "id": "OJUvEDAAHc3C"
      }
    },
    {
      "cell_type": "code",
      "execution_count": null,
      "source": [
        "Xbarra = dadosSeguro['age'].mean()\n",
        "erroPadrao = stats.sem(dadosSeguro['age']) # sigma / sqrt(n)\n",
        "\n",
        "stats.t.interval(0.95, len(dadosSeguro['age']) - 1, loc = Xbarra, scale = erroPadrao)"
      ],
      "outputs": [
        {
          "output_type": "execute_result",
          "data": {
            "text/plain": [
              "(38.453516373452935, 39.96053444866964)"
            ]
          },
          "metadata": {},
          "execution_count": 20
        }
      ],
      "metadata": {
        "id": "RlTu0CGkHc3D",
        "outputId": "05d484a6-9abd-49ab-f4c6-f1a51b05f536"
      }
    },
    {
      "cell_type": "markdown",
      "source": [
        "Se o tamanho de $n$ for suficientemente grande, podemos considerar que a média amostral é normalmente distribuída, dessa forma usamos a seguinte função:"
      ],
      "metadata": {
        "id": "_5WutuODHc3D"
      }
    },
    {
      "cell_type": "code",
      "execution_count": null,
      "source": [
        "stats.norm.interval(0.95, loc = Xbarra, scale = erroPadrao)"
      ],
      "outputs": [
        {
          "output_type": "execute_result",
          "data": {
            "text/plain": [
              "(38.45419850249946, 39.95985231962312)"
            ]
          },
          "metadata": {},
          "execution_count": 21
        }
      ],
      "metadata": {
        "id": "VGjUiwSXHc3E",
        "outputId": "95c5a29b-587d-468f-d45b-475b874da986"
      }
    },
    {
      "cell_type": "markdown",
      "source": [
        "Podemos também realizar testes de hipótese com a intenção de, por exemplo, verificar se é estatisticamente significativo a diferença entre o IMC de homens e mulheres. Podemos fazer o seguinte:"
      ],
      "metadata": {
        "id": "D1g67Z9kHc3G"
      }
    },
    {
      "cell_type": "code",
      "execution_count": null,
      "source": [
        "homens = dadosSeguro[dadosSeguro['sex'] == 'male']\n",
        "mulheres = dadosSeguro[dadosSeguro['sex'] == 'female']\n",
        "\n",
        "stats.ttest_ind(homens['bmi'], mulheres['bmi'], equal_var = False)"
      ],
      "outputs": [
        {
          "output_type": "execute_result",
          "data": {
            "text/plain": [
              "Ttest_indResult(statistic=1.697027933124022, pvalue=0.08992430667834876)"
            ]
          },
          "metadata": {},
          "execution_count": 22
        }
      ],
      "metadata": {
        "id": "QKnSOQ12Hc3K",
        "outputId": "82518e7e-304e-4cee-fd99-a5bb833d67f4"
      }
    },
    {
      "cell_type": "markdown",
      "source": [
        "Perceba que ao realizar esse teste, precisamos supor que o IMC é uma variável com distribuição normal. Podemos também indicar a hipótese alternativa para trabalhar com o teste de uma cauda só, indicando que o IMC dos homens pode ser maior que o IMC dos mulheres:"
      ],
      "metadata": {
        "id": "rAj8TcWWHc3L"
      }
    },
    {
      "cell_type": "code",
      "execution_count": null,
      "source": [
        "stats.ttest_ind(homens['bmi'], mulheres['bmi'], equal_var = False, alternative = 'greater')"
      ],
      "outputs": [
        {
          "output_type": "execute_result",
          "data": {
            "text/plain": [
              "Ttest_indResult(statistic=1.697027933124022, pvalue=0.04496215333917438)"
            ]
          },
          "metadata": {},
          "execution_count": 23
        }
      ],
      "metadata": {
        "id": "_egFcWKTHc3M",
        "outputId": "3f6b1a89-ad91-410d-e962-3c165fcdfdf5"
      }
    },
    {
      "cell_type": "markdown",
      "source": [
        "Nesse caso, o p-valor, considerando um nível de significância de 5%, é usado para rejeitar a hipótese nula de médias iguais em favor da hipótese alternativa do IMC de homens maior que o de mulheres."
      ],
      "metadata": {
        "id": "1YztrVEmHc3M"
      }
    },
    {
      "cell_type": "markdown",
      "source": [
        "## Outras referências para ajudar"
      ],
      "metadata": {
        "id": "5sfT2BvGHc3N"
      }
    },
    {
      "cell_type": "markdown",
      "source": [
        "### Conjuntos de Dados"
      ],
      "metadata": {
        "id": "xrywlGGZHc3N"
      }
    },
    {
      "cell_type": "markdown",
      "source": [
        "Alguns exemplos de sites para encontrar conjuntos de dados:\n",
        "\n",
        "- [Portal Brasileiro de Dados Abertos](https://dados.gov.br/)\n",
        "- [Kaggle](https://www.kaggle.com/)"
      ],
      "metadata": {
        "id": "WADSavGwHc3O"
      }
    },
    {
      "cell_type": "markdown",
      "source": [
        "### Transformar o Jupyter Notebook em um relatório"
      ],
      "metadata": {
        "id": "UW0xHmB5Hc3P"
      }
    },
    {
      "cell_type": "markdown",
      "source": [
        "É também possível transformar o Jupyter Notebook diretamente para um arquivo em extensão pdf. Alguns sites que fazem esse serviço considerando o arquivo ipynb do Google Colab:\n",
        "\n",
        "- [vertopal](https://www.vertopal.com/en/document/convert/ipynb-to-pdf)\n",
        "\n",
        "- [htmltopdf](https://htmtopdf.herokuapp.com/ipynbviewer/)"
      ],
      "metadata": {
        "id": "vfb74cArHc3P"
      }
    },
    {
      "cell_type": "markdown",
      "source": [
        "### Dicas para o projeto"
      ],
      "metadata": {
        "id": "iL7f3gqGHc3Q"
      }
    },
    {
      "cell_type": "markdown",
      "source": [
        "Se usar o Jupyter, é interessante que sua primeira célula de código já começe importando as bibliotecas possíveis, igual dessa forma:"
      ],
      "metadata": {
        "id": "rxi1JcigHc3R"
      }
    },
    {
      "cell_type": "code",
      "execution_count": null,
      "source": [
        "import matplotlib.pyplot as plt\n",
        "import pandas as pd\n",
        "from scipy import stats"
      ],
      "outputs": [],
      "metadata": {
        "id": "WHebGRnpHc3R"
      }
    },
    {
      "cell_type": "markdown",
      "source": [
        "Para análises estatísticas, sempre procure responder algumas perguntas como:\n",
        "\n",
        "- Quais análises são possíveis com esse conjunto de dados?\n",
        "- Essa análise faz sentido considerando a classe da variável?\n",
        "- Quais representações visuais são possíveis com tais variáveis?\n",
        "- Para essa análise quais suposições foram feitas? (se a variável tem distribuição normal e etc.)"
      ],
      "metadata": {
        "id": "m9YBFukYHc3V"
      }
    },
    {
      "cell_type": "markdown",
      "source": [
        "---\n",
        "\n",
        "Dados de exemplo coletados de [https://people.math.sc.edu/Burkardt/datasets/csv/csv.html](https://people.math.sc.edu/Burkardt/datasets/csv/csv.html)."
      ],
      "metadata": {
        "id": "GYxY28hcHc3W"
      }
    }
  ],
  "metadata": {
    "orig_nbformat": 4,
    "language_info": {
      "name": "python",
      "version": "3.9.7",
      "mimetype": "text/x-python",
      "codemirror_mode": {
        "name": "ipython",
        "version": 3
      },
      "pygments_lexer": "ipython3",
      "nbconvert_exporter": "python",
      "file_extension": ".py"
    },
    "kernelspec": {
      "name": "python3",
      "display_name": "Python 3.9.7 64-bit"
    },
    "interpreter": {
      "hash": "e7370f93d1d0cde622a1f8e1c04877d8463912d04d973331ad4851f04de6915a"
    },
    "colab": {
      "name": "Monitoria_Aula_Pratica.ipynb",
      "provenance": [],
      "toc_visible": true,
      "include_colab_link": true
    }
  },
  "nbformat": 4,
  "nbformat_minor": 0
}