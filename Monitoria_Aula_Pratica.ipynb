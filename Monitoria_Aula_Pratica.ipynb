{
 "cells": [
  {
   "cell_type": "markdown",
   "source": [
    "# SME0320 - Estatística I\n",
    "\n",
    "Monitoria - Aula Prática de Análise de Dados\n",
    "\n",
    "\n",
    "---"
   ],
   "metadata": {}
  },
  {
   "cell_type": "markdown",
   "source": [
    "## Apresentação ao ambiente Jupyter"
   ],
   "metadata": {}
  },
  {
   "cell_type": "markdown",
   "source": [
    "### Células de texto e de código"
   ],
   "metadata": {}
  },
  {
   "cell_type": "markdown",
   "source": [
    "O ambiente de trabalho do Jupyter é composto por células de texto e de código. O ambiente funciona de forma interativa, permitindo que o usuário interaja com o código ao executá-lo. Exemplo de célula de código:"
   ],
   "metadata": {}
  },
  {
   "cell_type": "code",
   "execution_count": 1,
   "source": [
    "a = 25\n",
    "b = 35\n",
    "\n",
    "a"
   ],
   "outputs": [
    {
     "output_type": "execute_result",
     "data": {
      "text/plain": [
       "25"
      ]
     },
     "metadata": {},
     "execution_count": 1
    }
   ],
   "metadata": {}
  },
  {
   "cell_type": "markdown",
   "source": [
    "Após indicados valores para as variáveis, a célula de código devolveu o valor da variável 'a' por ter sido a última linha do código. Exemplo se quiséssemos a soma das variáveis:"
   ],
   "metadata": {}
  },
  {
   "cell_type": "code",
   "execution_count": 2,
   "source": [
    "a + b"
   ],
   "outputs": [
    {
     "output_type": "execute_result",
     "data": {
      "text/plain": [
       "60"
      ]
     },
     "metadata": {},
     "execution_count": 2
    }
   ],
   "metadata": {}
  },
  {
   "cell_type": "markdown",
   "source": [
    "Se colocamos um novo valor para 'a' perceba que o resultado da célula de cima será alterado. Isso ocorre pois na execução do Notebook Jupyter, existe uma espécie de memória alocada para as variáveis."
   ],
   "metadata": {}
  },
  {
   "cell_type": "code",
   "execution_count": 3,
   "source": [
    "a = 37"
   ],
   "outputs": [],
   "metadata": {}
  },
  {
   "cell_type": "markdown",
   "source": [
    "### Pandas e outras bibliotecas importantes"
   ],
   "metadata": {}
  },
  {
   "cell_type": "markdown",
   "source": [
    "Pandas é uma biblioteca de Python que permite trabalhar com conjuntos de dados ao possibilitar diversas funções de análise apropriadas para análise."
   ],
   "metadata": {}
  },
  {
   "cell_type": "code",
   "execution_count": 10,
   "source": [
    "import pandas as pd\n",
    "\n",
    "dadosTartaruga = pd.read_csv(\"turtles.csv\")\n",
    "\n",
    "dadosTartaruga.head(10)"
   ],
   "outputs": [
    {
     "output_type": "execute_result",
     "data": {
      "text/html": [
       "<div>\n",
       "<style scoped>\n",
       "    .dataframe tbody tr th:only-of-type {\n",
       "        vertical-align: middle;\n",
       "    }\n",
       "\n",
       "    .dataframe tbody tr th {\n",
       "        vertical-align: top;\n",
       "    }\n",
       "\n",
       "    .dataframe thead th {\n",
       "        text-align: right;\n",
       "    }\n",
       "</style>\n",
       "<table border=\"1\" class=\"dataframe\">\n",
       "  <thead>\n",
       "    <tr style=\"text-align: right;\">\n",
       "      <th></th>\n",
       "      <th>INDEX</th>\n",
       "      <th>COLLECTION</th>\n",
       "      <th>SEX</th>\n",
       "      <th>LENGTH</th>\n",
       "      <th>WIDTH</th>\n",
       "      <th>HEIGHT</th>\n",
       "    </tr>\n",
       "  </thead>\n",
       "  <tbody>\n",
       "    <tr>\n",
       "      <th>0</th>\n",
       "      <td>1</td>\n",
       "      <td>\"CMNH\"</td>\n",
       "      <td>\"F\"</td>\n",
       "      <td>202</td>\n",
       "      <td>156</td>\n",
       "      <td>89</td>\n",
       "    </tr>\n",
       "    <tr>\n",
       "      <th>1</th>\n",
       "      <td>2</td>\n",
       "      <td>\"CMNH\"</td>\n",
       "      <td>\"F\"</td>\n",
       "      <td>198</td>\n",
       "      <td>153</td>\n",
       "      <td>91</td>\n",
       "    </tr>\n",
       "    <tr>\n",
       "      <th>2</th>\n",
       "      <td>3</td>\n",
       "      <td>\"CMNH\"</td>\n",
       "      <td>\"F\"</td>\n",
       "      <td>198</td>\n",
       "      <td>153</td>\n",
       "      <td>89</td>\n",
       "    </tr>\n",
       "    <tr>\n",
       "      <th>3</th>\n",
       "      <td>4</td>\n",
       "      <td>\"CMNH\"</td>\n",
       "      <td>\"F\"</td>\n",
       "      <td>213</td>\n",
       "      <td>164</td>\n",
       "      <td>90</td>\n",
       "    </tr>\n",
       "    <tr>\n",
       "      <th>4</th>\n",
       "      <td>5</td>\n",
       "      <td>\"CMNH\"</td>\n",
       "      <td>\"F\"</td>\n",
       "      <td>214</td>\n",
       "      <td>165</td>\n",
       "      <td>88</td>\n",
       "    </tr>\n",
       "    <tr>\n",
       "      <th>5</th>\n",
       "      <td>6</td>\n",
       "      <td>\"CMNH\"</td>\n",
       "      <td>\"F\"</td>\n",
       "      <td>162</td>\n",
       "      <td>132</td>\n",
       "      <td>67</td>\n",
       "    </tr>\n",
       "    <tr>\n",
       "      <th>6</th>\n",
       "      <td>7</td>\n",
       "      <td>\"CMNH\"</td>\n",
       "      <td>\"F\"</td>\n",
       "      <td>203</td>\n",
       "      <td>157</td>\n",
       "      <td>84</td>\n",
       "    </tr>\n",
       "    <tr>\n",
       "      <th>7</th>\n",
       "      <td>8</td>\n",
       "      <td>\"CMNH\"</td>\n",
       "      <td>\"F\"</td>\n",
       "      <td>186</td>\n",
       "      <td>150</td>\n",
       "      <td>80</td>\n",
       "    </tr>\n",
       "    <tr>\n",
       "      <th>8</th>\n",
       "      <td>9</td>\n",
       "      <td>\"SREL\"</td>\n",
       "      <td>\"F\"</td>\n",
       "      <td>196</td>\n",
       "      <td>163</td>\n",
       "      <td>85</td>\n",
       "    </tr>\n",
       "    <tr>\n",
       "      <th>9</th>\n",
       "      <td>10</td>\n",
       "      <td>\"SREL\"</td>\n",
       "      <td>\"F\"</td>\n",
       "      <td>225</td>\n",
       "      <td>183</td>\n",
       "      <td>100</td>\n",
       "    </tr>\n",
       "  </tbody>\n",
       "</table>\n",
       "</div>"
      ],
      "text/plain": [
       "   INDEX COLLECTION         SEX  LENGTH  WIDTH  HEIGHT\n",
       "0      1     \"CMNH\"         \"F\"     202    156      89\n",
       "1      2     \"CMNH\"         \"F\"     198    153      91\n",
       "2      3     \"CMNH\"         \"F\"     198    153      89\n",
       "3      4     \"CMNH\"         \"F\"     213    164      90\n",
       "4      5     \"CMNH\"         \"F\"     214    165      88\n",
       "5      6     \"CMNH\"         \"F\"     162    132      67\n",
       "6      7     \"CMNH\"         \"F\"     203    157      84\n",
       "7      8     \"CMNH\"         \"F\"     186    150      80\n",
       "8      9     \"SREL\"         \"F\"     196    163      85\n",
       "9     10     \"SREL\"         \"F\"     225    183     100"
      ]
     },
     "metadata": {},
     "execution_count": 10
    }
   ],
   "metadata": {}
  },
  {
   "cell_type": "markdown",
   "source": [
    "Temos também biblioteca de visualização de gráficos e tabelas, sendo uma das mais conhecidas a Matplotlib."
   ],
   "metadata": {}
  },
  {
   "cell_type": "code",
   "execution_count": 11,
   "source": [
    "import matplotlib.pyplot as plt\n",
    "\n",
    "sex = dadosTartaruga['SEX'].value_counts().to_frame()\n",
    "\n",
    "sex.reset_index(level=0, inplace=True) \n",
    "sex.columns = ['Sexo', 'Quantidade']\n",
    "\n",
    "sex.plot.bar(x = 'Sexo', y = 'Quantidade', rot = 0, title = \"Número de tartarugas machos e fêmeas\");\n",
    "\n",
    "fig = plt.gcf()\n",
    "fig.set_size_inches(8, 8)\n",
    "\n",
    "plt.show(block=True);"
   ],
   "outputs": [
    {
     "output_type": "display_data",
     "data": {
      "image/png": "[encoded data removed]",
      "text/plain": [
       "<Figure size 576x576 with 1 Axes>"
      ]
     },
     "metadata": {
      "needs_background": "light"
     }
    }
   ],
   "metadata": {}
  },
  {
   "cell_type": "markdown",
   "source": [
    "## Análise Descritiva"
   ],
   "metadata": {}
  },
  {
   "cell_type": "markdown",
   "source": [],
   "metadata": {}
  }
 ],
 "metadata": {
  "orig_nbformat": 4,
  "language_info": {
   "name": "python",
   "version": "3.9.7",
   "mimetype": "text/x-python",
   "codemirror_mode": {
    "name": "ipython",
    "version": 3
   },
   "pygments_lexer": "ipython3",
   "nbconvert_exporter": "python",
   "file_extension": ".py"
  },
  "kernelspec": {
   "name": "python3",
   "display_name": "Python 3.9.7 64-bit"
  },
  "interpreter": {
   "hash": "e7370f93d1d0cde622a1f8e1c04877d8463912d04d973331ad4851f04de6915a"
  }
 },
 "nbformat": 4,
 "nbformat_minor": 2
}